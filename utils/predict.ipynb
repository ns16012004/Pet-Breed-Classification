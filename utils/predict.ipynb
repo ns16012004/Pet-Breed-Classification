{
  "nbformat": 4,
  "nbformat_minor": 0,
  "metadata": {
    "colab": {
      "provenance": []
    },
    "kernelspec": {
      "name": "python3",
      "display_name": "Python 3"
    },
    "language_info": {
      "name": "python"
    }
  },
  "cells": [
    {
      "cell_type": "code",
      "execution_count": 1,
      "metadata": {
        "id": "43Zy42kfFFZ9"
      },
      "outputs": [],
      "source": [
        "# utils/predict.py\n",
        "\n",
        "import tensorflow as tf\n",
        "from PIL import Image\n",
        "import numpy as np\n",
        "\n",
        "def load_and_predict(image_path, model_path):\n",
        "    model = tf.keras.models.load_model(model_path)\n",
        "    img = Image.open(image_path).resize((224, 224))  # resize if needed\n",
        "    img_array = np.array(img) / 255.0\n",
        "    img_array = np.expand_dims(img_array, axis=0)\n",
        "    prediction = model.predict(img_array)\n",
        "    return prediction.argmax(), prediction\n"
      ]
    },
    {
      "cell_type": "code",
      "source": [],
      "metadata": {
        "id": "K3FO5Q70ROFV"
      },
      "execution_count": null,
      "outputs": []
    }
  ]
}